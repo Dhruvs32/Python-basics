{
  "nbformat": 4,
  "nbformat_minor": 0,
  "metadata": {
    "colab": {
      "provenance": []
    },
    "kernelspec": {
      "name": "python3",
      "display_name": "Python 3"
    },
    "language_info": {
      "name": "python"
    }
  },
  "cells": [
    {
      "cell_type": "markdown",
      "source": [
        "#Python basics\n"
      ],
      "metadata": {
        "id": "5O-tipmf0LNr"
      }
    },
    {
      "cell_type": "markdown",
      "source": [],
      "metadata": {
        "id": "TXVrYXzy1nWr"
      }
    },
    {
      "cell_type": "markdown",
      "source": [
        "Q.1. What is Python, and why is it popular ?\n",
        "   - Python is a high-level, general-purpose programming language known for its simple and readable syntax. It was created by Guido van Rossum and first released in 1991.\n",
        "\n",
        "Q.2.  What is an interpreter in Python ?\n",
        "   - An interpreter in Python is a program that reads and executes Python code line by line, rather than compiling the entire code into machine language before running it.\n",
        "\n",
        "Q.3. What are pre-defined keywords in Python ?\n",
        "  - Pre-defined keywords in Python are reserved words that have special meaning in the language. You cannot use them as variable names, function names, or identifiers, because they are part of the core syntax.\n",
        "\n",
        "Q.4. Can keywords be used as variable names ?\n",
        "  - No, keywords cannot be used as variable names in Python.\n",
        "\n",
        "They are reserved words that have a specific meaning in the language syntax, and using them as variable names would cause a syntax error.\n",
        "\n",
        "Q.5. What is mutability in Python ?\n",
        "  - Mutability in Python refers to whether an object’s state or contents can be changed after it is created.\n",
        "\n",
        "Q.6.  Why are lists mutable, but tuples are immutable ?\n",
        "  - In Python, lists are mutable and tuples are immutable because of their intended use and design within the language.\n",
        "\n",
        "Q.7. What is the difference between “==” and “is” operators in Python ?\n",
        "  -  == (Equality Operator)\n",
        "Checks if two values are equal in content (i.e., they have the same value).\n",
        "\n",
        "It compares the data inside the objects.\n",
        "\n",
        "You can override == in custom classes using __eq__.\n",
        "\n",
        " is (Identity Operator)\n",
        "Checks if two variables point to the same object in memory.\n",
        "\n",
        "Returns True only if both sides are the exact same object, not just equal content.\n",
        "\n",
        "Useful for checking singleton values like None.\n",
        "\n",
        "Q.8. What are logical operators in Python ?\n",
        "  - In Python, logical operators are used to combine boolean expressions (expressions that evaluate to True or False). These are essential for controlling flow in if, while, and other conditional statements.\n",
        "\n",
        "Q.9. What is type casting in Python ?\n",
        "  - Type Casting in Python\n",
        "Type casting (or type conversion) is the process of converting one data type to another in Python. This is useful when you need to change the data type of a variable to perform certain operations or meet function argument requirements.\n",
        "\n",
        "Python provides two types of type casting:\n",
        "\n",
        "A. Implicit Type Casting (Automatic Type Casting)\n",
        "\n",
        "B. Explicit Type Casting (Manual Type Casting)\n",
        "\n",
        "Q.10. What is the difference between implicit and explicit type casting ?\n",
        "  - Difference Between Implicit and Explicit Type Casting\n",
        "Type casting refers to converting one data type to another. In Python, implicit and explicit casting are two different ways of handling this conversion.\n",
        "\n",
        " 1. Implicit Type Casting (Automatic Casting)\n",
        "Automatic conversion done by Python without the need for the programmer to specify it.\n",
        "\n",
        "This happens when Python automatically converts a smaller or lower data type to a larger or higher data type in order to avoid data loss and ensure correct operations.\n",
        "\n",
        "No explicit instruction is needed by the programmer.\n",
        "2. Explicit Type Casting (Manual Casting)\n",
        "Manual conversion where the programmer explicitly tells Python to convert a variable from one type to another.\n",
        "\n",
        "You use type casting functions like int(), float(), str(), etc., to convert between types.\n",
        "\n",
        "This is required when Python doesn't automatically do the conversion (e.g., converting strings to numbers, or when you want to control the conversion).\n",
        "\n",
        "Example:\n",
        "If you want to convert a string to an integer, you must explicitly call int().\n",
        "\n",
        "Q.11. What is the purpose of conditional statements in Python ?\n",
        "  - Conditional statements in Python (like if, elif, and else) allow you to control the flow of execution in your program. They let your program make decisions based on conditions, enabling it to behave differently depending on the values of variables or the outcome of certain expressions.\n",
        "\n",
        "Q.12. How does the elif statement work ?\n",
        "  - The elif statement (short for \"else if\") is used in Python to check multiple conditions. It comes after an if statement and before an else statement. The elif allows you to check for additional conditions if the first if condition is False. You can have multiple elif statements to check different conditions, and only the first condition that evaluates to True will execute its associated code block. If none of the conditions are True, the else block (if present) will execute.\n",
        "\n",
        "Q.13. What is the difference between for and while loops ?\n",
        "  - 1. for Loop\n",
        "Purpose: Typically used when you know exactly how many times you want to iterate, or when you're iterating over a sequence (such as a list, tuple, string, or range).\n",
        "\n",
        "Control: The for loop automatically handles the iteration over a sequence or a range of numbers.\n",
        "\n",
        "2.while Loop\n",
        "Purpose: Used when you don’t know in advance how many times you want the loop to execute, but you want it to keep running while a condition is True.\n",
        "\n",
        "Control: The while loop continues to run as long as a boolean condition remains True. You need to manually update variables inside the loop to ensure the loop doesn't run infinitely.\n",
        "\n",
        "Q.14. Describe a scenario where a while loop is more suitable than a for loop\n",
        "  - Scenario: Repeated User Input Until Valid Response\n",
        "\n",
        "Imagine you're creating a program that asks a user for their age. The program should keep prompting the user until they enter a valid age (e.g., a positive number between 1 and 120). In this case, a while loop is more suitable because you don’t know how many attempts it will take for the user to enter a valid response. The loop should continue as long as the input is invalid, and it should stop when the condition (valid age input) is met.\n",
        "\n",
        "\n",
        "\n",
        "\n",
        "\n",
        "\n",
        "\n",
        "\n",
        "\n",
        "\n",
        "\n",
        "\n",
        "\n",
        "\n",
        "\n"
      ],
      "metadata": {
        "id": "9WJZhS1J0q6x"
      }
    },
    {
      "cell_type": "code",
      "source": [
        "#Write a Python program to print \"Hello, World!\n",
        "\n",
        "'''\n",
        "\n",
        "print(\"Hello, World!\")\n",
        "\n",
        "'''"
      ],
      "metadata": {
        "colab": {
          "base_uri": "https://localhost:8080/",
          "height": 36
        },
        "id": "gEGkvKJbAVVB",
        "outputId": "9e70b6a4-3dd2-457d-edde-ef87ac6bf03c"
      },
      "execution_count": 1,
      "outputs": [
        {
          "output_type": "execute_result",
          "data": {
            "text/plain": [
              "'\\nprint(\"Hello, World!\")\\n\\n'"
            ],
            "application/vnd.google.colaboratory.intrinsic+json": {
              "type": "string"
            }
          },
          "metadata": {},
          "execution_count": 1
        }
      ]
    },
    {
      "cell_type": "code",
      "source": [
        "#Write a Python program that displays your name and age\n",
        "\n",
        "\"\"\"\n",
        "# Python program to display name and age\n",
        "name = \"DHRUV\"  # Replace with your name\n",
        "age = 23           # Replace with your age\n",
        "\n",
        "print(\"Name:\", name)\n",
        "print(\"Age:\", age)\n",
        "\n",
        "\"\"\"\n",
        "\n"
      ],
      "metadata": {
        "colab": {
          "base_uri": "https://localhost:8080/",
          "height": 36
        },
        "id": "qNNBbfL_ATH9",
        "outputId": "e7e49511-462b-4dd9-925c-a838da485d6c"
      },
      "execution_count": 6,
      "outputs": [
        {
          "output_type": "execute_result",
          "data": {
            "text/plain": [
              "'\\n# Python program to display name and age\\nname = \"DHRUV\"  # Replace with your name\\nage = 23           # Replace with your age\\n\\nprint(\"Name:\", name)\\nprint(\"Age:\", age)\\n\\n'"
            ],
            "application/vnd.google.colaboratory.intrinsic+json": {
              "type": "string"
            }
          },
          "metadata": {},
          "execution_count": 6
        }
      ]
    },
    {
      "cell_type": "code",
      "execution_count": 7,
      "metadata": {
        "id": "deTgQhg4zbOM",
        "colab": {
          "base_uri": "https://localhost:8080/",
          "height": 36
        },
        "outputId": "6e9428f1-97c2-4e2e-e3da-dfcbb174e447"
      },
      "outputs": [
        {
          "output_type": "execute_result",
          "data": {
            "text/plain": [
              "'\\n\\nprint(\"Python Keywords:\")\\nprint(keyword.kwlist)\\n\\n'"
            ],
            "application/vnd.google.colaboratory.intrinsic+json": {
              "type": "string"
            }
          },
          "metadata": {},
          "execution_count": 7
        }
      ],
      "source": [
        "#Write code to print all the pre-defined keywords in Python using the keyword library\n",
        "\n",
        "\"\"\"\n",
        "\n",
        "print(\"Python Keywords:\")\n",
        "print(keyword.kwlist)\n",
        "\n",
        "\"\"\"\n"
      ]
    },
    {
      "cell_type": "code",
      "source": [
        "#Write a program that checks if a given word is a Python keyword.\n",
        "\n",
        "\"\"\"\n",
        "\n",
        "import keyword\n",
        "\n",
        "# Function to check if a word is a Python keyword\n",
        "def check_keyword(word):\n",
        "    if keyword.iskeyword(word):\n",
        "        print(f\"'{word}' is a Python keyword.\")\n",
        "    else:\n",
        "        print(f\"'{word}' is not a Python keyword.\")\n",
        "\n",
        "# Take input from the user\n",
        "word = input(\"Enter a word to check if it's a Python keyword: \")\n",
        "\n",
        "# Check if the word is a keyword\n",
        "check_keyword(word)\n",
        "\n",
        "\"\"\""
      ],
      "metadata": {
        "colab": {
          "base_uri": "https://localhost:8080/",
          "height": 70
        },
        "id": "wfUPhDZKCcnx",
        "outputId": "d68fe9e2-f535-473d-a188-ef6cc31a8324"
      },
      "execution_count": 8,
      "outputs": [
        {
          "output_type": "execute_result",
          "data": {
            "text/plain": [
              "'\\n\\nimport keyword\\n\\n# Function to check if a word is a Python keyword\\ndef check_keyword(word):\\n    if keyword.iskeyword(word):\\n        print(f\"\\'{word}\\' is a Python keyword.\")\\n    else:\\n        print(f\"\\'{word}\\' is not a Python keyword.\")\\n\\n# Take input from the user\\nword = input(\"Enter a word to check if it\\'s a Python keyword: \")\\n\\n# Check if the word is a keyword\\ncheck_keyword(word)\\n\\n'"
            ],
            "application/vnd.google.colaboratory.intrinsic+json": {
              "type": "string"
            }
          },
          "metadata": {},
          "execution_count": 8
        }
      ]
    },
    {
      "cell_type": "code",
      "source": [
        "# Create a list and tuple in Python, and demonstrate how attempting to change an element works differently for each\n",
        "\"\"\"\n",
        "# Create a list and a tuple\n",
        "my_list = [1, 2, 3, 4]\n",
        "my_tuple = (1, 2, 3, 4)\n",
        "\n",
        "# Attempt to change an element in the list\n",
        "print(\"Original list:\", my_list)\n",
        "my_list[2] = 10  # Modifying an element of the list\n",
        "print(\"Modified list:\", my_list)\n",
        "\n",
        "# Attempt to change an element in the tuple\n",
        "print(\"\\nOriginal tuple:\", my_tuple)\n",
        "try:\n",
        "    my_tuple[2] = 10  # Trying to modify an element of the tuple\n",
        "except TypeError as e:\n",
        "    print(\"Error while modifying tuple:\", e)\n",
        "\"\"\"\n"
      ],
      "metadata": {
        "colab": {
          "base_uri": "https://localhost:8080/",
          "height": 70
        },
        "id": "cCzX8lIbDFLX",
        "outputId": "70f69ee8-47ad-4a29-9d88-0da0e013f7ef"
      },
      "execution_count": 17,
      "outputs": [
        {
          "output_type": "execute_result",
          "data": {
            "text/plain": [
              "'\\n# Create a list and a tuple\\nmy_list = [1, 2, 3, 4]\\nmy_tuple = (1, 2, 3, 4)\\n\\n# Attempt to change an element in the list\\nprint(\"Original list:\", my_list)\\nmy_list[2] = 10  # Modifying an element of the list\\nprint(\"Modified list:\", my_list)\\n\\n# Attempt to change an element in the tuple\\nprint(\"\\nOriginal tuple:\", my_tuple)\\ntry:\\n    my_tuple[2] = 10  # Trying to modify an element of the tuple\\nexcept TypeError as e:\\n    print(\"Error while modifying tuple:\", e)\\n'"
            ],
            "application/vnd.google.colaboratory.intrinsic+json": {
              "type": "string"
            }
          },
          "metadata": {},
          "execution_count": 17
        }
      ]
    },
    {
      "cell_type": "code",
      "source": [
        "# Write a function to demonstrate the behavior of mutable and immutable arguments.\n",
        "\n",
        "\"\"\"\n",
        "def modify_immutable(x):\n",
        "    print(\"Inside function before modification:\", x)\n",
        "    x = x + 10\n",
        "    print(\"Inside function after modification:\", x)\n",
        "\n",
        "def modify_mutable(lst):\n",
        "    print(\"Inside function before modification:\", lst)\n",
        "    lst.append(100)\n",
        "    print(\"Inside function after modification:\", lst)\n",
        "\n",
        "# Immutable argument (integer)\n",
        "num = 20\n",
        "print(\"Before function call (immutable):\", num)\n",
        "modify_immutable(num)\n",
        "print(\"After function call (immutable):\", num)\n",
        "\n",
        "print(\"\\n-----------------------\\n\")\n",
        "\n",
        "# Mutable argument (list)\n",
        "my_list = [1, 2, 3]\n",
        "print(\"Before function call (mutable):\", my_list)\n",
        "modify_mutable(my_list)\n",
        "print(\"After function call (mutable):\", my_list)\n",
        "\"\"\"\n"
      ],
      "metadata": {
        "colab": {
          "base_uri": "https://localhost:8080/",
          "height": 88
        },
        "id": "L9QGxVv8D7Ws",
        "outputId": "eb7d1aab-f8a1-4b50-d7ea-ddc5860da6a8"
      },
      "execution_count": 10,
      "outputs": [
        {
          "output_type": "execute_result",
          "data": {
            "text/plain": [
              "'\\ndef modify_immutable(x):\\n    print(\"Inside function before modification:\", x)\\n    x = x + 10\\n    print(\"Inside function after modification:\", x)\\n\\ndef modify_mutable(lst):\\n    print(\"Inside function before modification:\", lst)\\n    lst.append(100)\\n    print(\"Inside function after modification:\", lst)\\n\\n# Immutable argument (integer)\\nnum = 20\\nprint(\"Before function call (immutable):\", num)\\nmodify_immutable(num)\\nprint(\"After function call (immutable):\", num)\\n\\nprint(\"\\n-----------------------\\n\")\\n\\n# Mutable argument (list)\\nmy_list = [1, 2, 3]\\nprint(\"Before function call (mutable):\", my_list)\\nmodify_mutable(my_list)\\nprint(\"After function call (mutable):\", my_list)\\n'"
            ],
            "application/vnd.google.colaboratory.intrinsic+json": {
              "type": "string"
            }
          },
          "metadata": {},
          "execution_count": 10
        }
      ]
    },
    {
      "cell_type": "code",
      "source": [
        "# Write a program that performs basic arithmetic operations on two user-input numbers.\n",
        "\n",
        "\"\"\"\n",
        "# Program to perform basic arithmetic operations\n",
        "\n",
        "# Get input from the user and convert to float\n",
        "num1 = float(input(\"Enter the first number: \"))\n",
        "num2 = float(input(\"Enter the second number: \"))\n",
        "\n",
        "# Perform arithmetic operations\n",
        "addition = num1 + num2\n",
        "subtraction = num1 - num2\n",
        "multiplication = num1 * num2\n",
        "\n",
        "# Handle division by zero\n",
        "if num2 != 0:\n",
        "    division = num1 / num2\n",
        "else:\n",
        "    division = \"Undefined (cannot divide by zero)\"\n",
        "\n",
        "# Display results\n",
        "print(\"\\n--- Results ---\")\n",
        "print(f\"Addition: {num1} + {num2} = {addition}\")\n",
        "print(f\"Subtraction: {num1} - {num2} = {subtraction}\")\n",
        "print(f\"Multiplication: {num1} * {num2} = {multiplication}\")\n",
        "print(f\"Division: {num1} / {num2} = {division}\")\n",
        "\"\"\"\n"
      ],
      "metadata": {
        "id": "XS_emOb-Eago"
      },
      "execution_count": null,
      "outputs": []
    },
    {
      "cell_type": "code",
      "source": [
        "#Write a program to demonstrate the use of logical operators\n",
        "\n",
        "\"\"\"\n",
        "# Program to demonstrate logical operators\n",
        "\n",
        "# Input from user\n",
        "age = int(input(\"Enter your age: \"))\n",
        "has_id = input(\"Do you have a valid ID? (yes/no): \").lower()\n",
        "\n",
        "# Logical AND\n",
        "if age >= 18 and has_id == \"yes\":\n",
        "    print(\"Access granted: You are an adult and have a valid ID.\")\n",
        "else:\n",
        "    print(\"Access denied: Either underage or no ID.\")\n",
        "\n",
        "# Logical OR\n",
        "if age >= 18 or has_id == \"yes\":\n",
        "    print(\"Partial access: At least one condition is met.\")\n",
        "else:\n",
        "    print(\"No access: Neither condition is met.\")\n",
        "\n",
        "# Logical NOT\n",
        "if not (has_id == \"yes\"):\n",
        "    print(\"Reminder: Please bring your ID next time.\")\n",
        "\"\"\""
      ],
      "metadata": {
        "colab": {
          "base_uri": "https://localhost:8080/",
          "height": 88
        },
        "id": "4w1fSjyhErWk",
        "outputId": "83472478-7e3c-4ab6-c36c-3dec4ab1ba94"
      },
      "execution_count": 11,
      "outputs": [
        {
          "output_type": "execute_result",
          "data": {
            "text/plain": [
              "'\\n# Program to demonstrate logical operators\\n\\n# Input from user\\nage = int(input(\"Enter your age: \"))\\nhas_id = input(\"Do you have a valid ID? (yes/no): \").lower()\\n\\n# Logical AND\\nif age >= 18 and has_id == \"yes\":\\n    print(\"Access granted: You are an adult and have a valid ID.\")\\nelse:\\n    print(\"Access denied: Either underage or no ID.\")\\n\\n# Logical OR\\nif age >= 18 or has_id == \"yes\":\\n    print(\"Partial access: At least one condition is met.\")\\nelse:\\n    print(\"No access: Neither condition is met.\")\\n\\n# Logical NOT\\nif not (has_id == \"yes\"):\\n    print(\"Reminder: Please bring your ID next time.\")\\n'"
            ],
            "application/vnd.google.colaboratory.intrinsic+json": {
              "type": "string"
            }
          },
          "metadata": {},
          "execution_count": 11
        }
      ]
    },
    {
      "cell_type": "code",
      "source": [
        "# Write a Python program to convert user input from string to integer, float, and boolean types.\n",
        "\n",
        "\"\"\"\n",
        "# Program to convert user input to int, float, and bool\n",
        "\n",
        "# Get user input as string\n",
        "user_input = input(\"Enter a value: \")\n",
        "\n",
        "# Convert to integer\n",
        "try:\n",
        "    int_value = int(user_input)\n",
        "    print(f\"Integer conversion: {int_value}\")\n",
        "except ValueError:\n",
        "    print(\"Cannot convert to integer.\")\n",
        "\n",
        "# Convert to float\n",
        "try:\n",
        "    float_value = float(user_input)\n",
        "    print(f\"Float conversion: {float_value}\")\n",
        "except ValueError:\n",
        "    print(\"Cannot convert to float.\")\n",
        "\n",
        "# Convert to boolean\n",
        "# Any non-empty string (except '0', 'false', etc.) becomes True\n",
        "bool_value = bool(user_input.strip())\n",
        "print(f\"Boolean conversion: {bool_value}\")\n",
        "\"\"\"\n"
      ],
      "metadata": {
        "colab": {
          "base_uri": "https://localhost:8080/",
          "height": 88
        },
        "id": "oKYqPtTHFAAt",
        "outputId": "d68e991f-8a19-4488-82c3-e1d939f49ba1"
      },
      "execution_count": 12,
      "outputs": [
        {
          "output_type": "execute_result",
          "data": {
            "text/plain": [
              "'\\n# Program to convert user input to int, float, and bool\\n\\n# Get user input as string\\nuser_input = input(\"Enter a value: \")\\n\\n# Convert to integer\\ntry:\\n    int_value = int(user_input)\\n    print(f\"Integer conversion: {int_value}\")\\nexcept ValueError:\\n    print(\"Cannot convert to integer.\")\\n\\n# Convert to float\\ntry:\\n    float_value = float(user_input)\\n    print(f\"Float conversion: {float_value}\")\\nexcept ValueError:\\n    print(\"Cannot convert to float.\")\\n\\n# Convert to boolean\\n# Any non-empty string (except \\'0\\', \\'false\\', etc.) becomes True\\nbool_value = bool(user_input.strip())\\nprint(f\"Boolean conversion: {bool_value}\")\\n'"
            ],
            "application/vnd.google.colaboratory.intrinsic+json": {
              "type": "string"
            }
          },
          "metadata": {},
          "execution_count": 12
        }
      ]
    },
    {
      "cell_type": "code",
      "source": [
        "#Write code to demonstrate type casting with list elements.\n",
        "\n",
        "\"\"\"\n",
        "# List with string elements\n",
        "string_list = [\"10\", \"20\", \"30\", \"40.5\", \"hello\"]\n",
        "\n",
        "print(\"Original list:\", string_list)\n",
        "\n",
        "# Convert strings to integers (only valid integers)\n",
        "int_list = []\n",
        "for item in string_list:\n",
        "    try:\n",
        "        int_list.append(int(float(item)))  # Handles both \"30\" and \"40.5\"\n",
        "    except ValueError:\n",
        "        print(f\"Cannot convert '{item}' to int.\")\n",
        "print(\"List after converting to integers:\", int_list)\n",
        "\n",
        "# Convert strings to floats\n",
        "float_list = []\n",
        "for item in string_list:\n",
        "    try:\n",
        "        float_list.append(float(item))\n",
        "    except ValueError:\n",
        "        print(f\"Cannot convert '{item}' to float.\")\n",
        "print(\"List after converting to floats:\", float_list)\n",
        "\n",
        "# Convert strings to booleans\n",
        "bool_list = [bool(item.strip()) for item in string_list]\n",
        "print(\"List after converting to booleans:\", bool_list)\n",
        "\"\"\"\n"
      ],
      "metadata": {
        "colab": {
          "base_uri": "https://localhost:8080/",
          "height": 105
        },
        "id": "xoLi9w1GFLBm",
        "outputId": "00ac5fb0-493b-4b57-a08c-08d6f34a1b5f"
      },
      "execution_count": 15,
      "outputs": [
        {
          "output_type": "execute_result",
          "data": {
            "text/plain": [
              "'\\n# List with string elements\\nstring_list = [\"10\", \"20\", \"30\", \"40.5\", \"hello\"]\\n\\nprint(\"Original list:\", string_list)\\n\\n# Convert strings to integers (only valid integers)\\nint_list = []\\nfor item in string_list:\\n    try:\\n        int_list.append(int(float(item)))  # Handles both \"30\" and \"40.5\"\\n    except ValueError:\\n        print(f\"Cannot convert \\'{item}\\' to int.\")\\nprint(\"List after converting to integers:\", int_list)\\n\\n# Convert strings to floats\\nfloat_list = []\\nfor item in string_list:\\n    try:\\n        float_list.append(float(item))\\n    except ValueError:\\n        print(f\"Cannot convert \\'{item}\\' to float.\")\\nprint(\"List after converting to floats:\", float_list)\\n\\n# Convert strings to booleans\\nbool_list = [bool(item.strip()) for item in string_list]\\nprint(\"List after converting to booleans:\", bool_list)\\n'"
            ],
            "application/vnd.google.colaboratory.intrinsic+json": {
              "type": "string"
            }
          },
          "metadata": {},
          "execution_count": 15
        }
      ]
    },
    {
      "cell_type": "code",
      "source": [
        "#Write a program that checks if a number is positive, negative, or zero.\n",
        "\n",
        "\"\"\"\n",
        "# Program to check if a number is positive, negative, or zero\n",
        "\n",
        "# Get input from the user and convert to float\n",
        "number = float(input(\"Enter a number: \"))\n",
        "\n",
        "# Check the sign of the number\n",
        "if number > 0:\n",
        "    print(\"The number is positive.\")\n",
        "elif number < 0:\n",
        "    print(\"The number is negative.\")\n",
        "else:\n",
        "    print(\"The number is zero.\")\n",
        "\"\"\"\n"
      ],
      "metadata": {
        "id": "BGAajVE9FY1K"
      },
      "execution_count": null,
      "outputs": []
    },
    {
      "cell_type": "code",
      "source": [
        "#Write a for loop to print numbers from 1 to 10\n",
        "\n",
        "\"\"\"\n",
        "# Print numbers from 1 to 10 using a for loop\n",
        "for i in range(1, 11):\n",
        "    print(i)\n",
        "\"\"\"\n"
      ],
      "metadata": {
        "id": "aMUPYdwTFqus"
      },
      "execution_count": null,
      "outputs": []
    },
    {
      "cell_type": "code",
      "source": [
        "#Write a Python program to find the sum of all even numbers between 1 and 50.\n",
        "\n",
        "\"\"\"\n",
        "# Program to find the sum of even numbers from 1 to 50\n",
        "\n",
        "even_sum = 0\n",
        "\n",
        "# Loop through numbers from 1 to 50\n",
        "for i in range(1, 51):\n",
        "    if i % 2 == 0:\n",
        "        even_sum += i\n",
        "\n",
        "# Display the result\n",
        "print(\"The sum of even numbers from 1 to 50 is:\", even_sum)\n",
        "\"\"\"\n",
        "\n"
      ],
      "metadata": {
        "id": "Ou0WDIwfFK5d"
      },
      "execution_count": null,
      "outputs": []
    },
    {
      "cell_type": "code",
      "source": [
        "#Write a program to reverse a string using a while loop.\n",
        "\n",
        "\"\"\"\n",
        "# Program to reverse a string using a while loop\n",
        "\n",
        "# Get user input\n",
        "text = input(\"Enter a string: \")\n",
        "\n",
        "# Initialize an empty string for the reversed result\n",
        "reversed_text = \"\"\n",
        "\n",
        "# Initialize index to the last character\n",
        "index = len(text) - 1\n",
        "\n",
        "# Loop backward through the string\n",
        "while index >= 0:\n",
        "    reversed_text += text[index]\n",
        "    index -= 1\n",
        "\n",
        "# Display the reversed string\n",
        "print(\"Reversed string:\", reversed_text)\n",
        "\"\"\"\n"
      ],
      "metadata": {
        "colab": {
          "base_uri": "https://localhost:8080/",
          "height": 70
        },
        "id": "EeOZEJPwGHkF",
        "outputId": "20ff7549-eb1d-46b1-f8e9-819c49f4e9e7"
      },
      "execution_count": 16,
      "outputs": [
        {
          "output_type": "execute_result",
          "data": {
            "text/plain": [
              "'\\n# Program to reverse a string using a while loop\\n\\n# Get user input\\ntext = input(\"Enter a string: \")\\n\\n# Initialize an empty string for the reversed result\\nreversed_text = \"\"\\n\\n# Initialize index to the last character\\nindex = len(text) - 1\\n\\n# Loop backward through the string\\nwhile index >= 0:\\n    reversed_text += text[index]\\n    index -= 1\\n\\n# Display the reversed string\\nprint(\"Reversed string:\", reversed_text)\\n'"
            ],
            "application/vnd.google.colaboratory.intrinsic+json": {
              "type": "string"
            }
          },
          "metadata": {},
          "execution_count": 16
        }
      ]
    },
    {
      "cell_type": "code",
      "source": [
        "#Write a Python program to calculate the factorial of a number provided by the user using a while loop.\n",
        "\n",
        "\"\"\"\n",
        "# Program to calculate factorial using a while loop\n",
        "\n",
        "# Get user input and convert to integer\n",
        "num = int(input(\"Enter a non-negative integer: \"))\n",
        "\n",
        "# Check for valid input\n",
        "if num < 0:\n",
        "    print(\"Factorial is not defined for negative numbers.\")\n",
        "else:\n",
        "    factorial = 1\n",
        "    n = num\n",
        "    while n > 1:\n",
        "        factorial *= n\n",
        "        n -= 1\n",
        "\n",
        "    # Display the result\n",
        "    print(f\"The factorial of {num} is {factorial}.\")\n",
        "\"\"\""
      ],
      "metadata": {
        "colab": {
          "base_uri": "https://localhost:8080/",
          "height": 70
        },
        "id": "3pSsGR77GTHU",
        "outputId": "795f051a-84bc-4b07-a41a-a0ae13e52163"
      },
      "execution_count": 4,
      "outputs": [
        {
          "output_type": "execute_result",
          "data": {
            "text/plain": [
              "'\\n# Program to calculate factorial using a while loop\\n\\n# Get user input and convert to integer\\nnum = int(input(\"Enter a non-negative integer: \"))\\n\\n# Check for valid input\\nif num < 0:\\n    print(\"Factorial is not defined for negative numbers.\")\\nelse:\\n    factorial = 1\\n    n = num\\n    while n > 1:\\n        factorial *= n\\n        n -= 1\\n\\n    # Display the result\\n    print(f\"The factorial of {num} is {factorial}.\")\\n'"
            ],
            "application/vnd.google.colaboratory.intrinsic+json": {
              "type": "string"
            }
          },
          "metadata": {},
          "execution_count": 4
        }
      ]
    },
    {
      "cell_type": "markdown",
      "source": [],
      "metadata": {
        "id": "B8WHQe-w0IKF"
      }
    }
  ]
}